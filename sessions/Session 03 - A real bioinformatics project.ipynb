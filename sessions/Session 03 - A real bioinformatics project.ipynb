{
 "cells": [
  {
   "cell_type": "markdown",
   "id": "4cc3ca15",
   "metadata": {},
   "source": [
    "## Introduction\n",
    "\n",
    "For this session, we will work on this dataset: [DNA Sequence dataset](https://www.kaggle.com/datasets/nageshsingh/dna-sequence-dataset). \n",
    "A more in-depth guide can be found [here](./resources/dna-sequencing-with-machine-learning.ipynb).\n",
    "\n",
    "Example of fasta file handling using biopython library:"
   ]
  },
  {
   "cell_type": "code",
   "execution_count": 7,
   "id": "72a97d53",
   "metadata": {},
   "outputs": [],
   "source": [
    "%matplotlib inline\n",
    "DATASET_PATH = 'resources/dna_dataset/'"
   ]
  },
  {
   "cell_type": "code",
   "execution_count": 8,
   "id": "5f9a7477",
   "metadata": {},
   "outputs": [
    {
     "name": "stdout",
     "output_type": "stream",
     "text": [
      "Sequence ID: ENST00000435737.5\n",
      "Sequence: ATGTTTCGCATCACCAACATTGAGTTTCTTCCCGAATACCGACAAAAGGAGTCCAGGGAATTTCTTTCAGTGTCACGGACTGTGCAGCAAGTGATAAACCTGGTTTATACAACATCTGCCTTCTCCAAATTTTATGAGCAGTCTGTTGTTGCAGATGTCAGCAACAACAAAGGCGGCCTCCTTGTCCACTTTTGGATTGTTTTTGTCATGCCACGTGCCAAAGGCCACATCTTCTGTGAAGACTGTGTTGCCGCCATCTTGAAGGACTCCATCCAGACAAGCATCATAAACCGGACCTCTGTGGGGAGCTTGCAGGGACTGGCTGTGGACATGGACTCTGTGGTACTAAATGAAGTCCTGGGGCTGACTCTCATTGTCTGGATTGACTGA\n",
      "Sequence length: 390\n",
      "--------------------\n"
     ]
    }
   ],
   "source": [
    "from Bio import SeqIO\n",
    "for sequence in SeqIO.parse(DATASET_PATH + 'example_dna.fa', \"fasta\"):\n",
    "    print('Sequence ID:', sequence.id)\n",
    "    print('Sequence:', sequence.seq)\n",
    "    print('Sequence length:', len(sequence))\n",
    "    print('-'*20)\n",
    "    break"
   ]
  },
  {
   "cell_type": "markdown",
   "id": "d9d6f495",
   "metadata": {},
   "source": [
    "## The dataset\n",
    "\n",
    "**Objective**: Build a classification model that is trained on the human DNA sequence and can predict a gene family based on the DNA sequence of the coding sequence. To test the model, we will use the DNA sequence of humans, dogs, and chimpanzees and compare the accuracies.\n",
    "\n",
    "Gene families are groups of related genes that share a common ancestor. Members of gene families may be paralogs or orthologs. Gene paralogs are genes with similar sequences from within the same species while gene orthologs are genes with similar sequences in different species.\n",
    "\n",
    "The dataset contains human DNA sequence, Dog DNA sequence, and Chimpanzee DNA sequence."
   ]
  },
  {
   "cell_type": "markdown",
   "id": "1de48135",
   "metadata": {},
   "source": [
    "## Analyze the dataset\n",
    "\n",
    "First, we should understand our dataset and objective, before doing any kind of deep dive.\n"
   ]
  },
  {
   "cell_type": "code",
   "execution_count": null,
   "id": "07838e38",
   "metadata": {},
   "outputs": [],
   "source": []
  }
 ],
 "metadata": {
  "kernelspec": {
   "display_name": "Python 3 (ipykernel)",
   "language": "python",
   "name": "python3"
  },
  "language_info": {
   "codemirror_mode": {
    "name": "ipython",
    "version": 3
   },
   "file_extension": ".py",
   "mimetype": "text/x-python",
   "name": "python",
   "nbconvert_exporter": "python",
   "pygments_lexer": "ipython3",
   "version": "3.10.4"
  }
 },
 "nbformat": 4,
 "nbformat_minor": 5
}
